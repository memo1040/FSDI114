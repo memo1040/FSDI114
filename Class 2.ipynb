{
 "cells": [
  {
   "cell_type": "code",
   "execution_count": 4,
   "id": "bcffc12b",
   "metadata": {},
   "outputs": [],
   "source": [
    "class Queue:\n",
    "    def __init__(self):\n",
    "        self.items = []\n",
    "        \n",
    "    def is_empty(self):\n",
    "        return self.items == []\n",
    "    \n",
    "    def enqueue(self, item):\n",
    "        self.items.insert(0, item)\n",
    "        \n",
    "    def dequeue(self):\n",
    "        return self.items.pop()\n",
    "    \n",
    "    def size(self):\n",
    "        return len(self.items)"
   ]
  },
  {
   "cell_type": "code",
   "execution_count": 3,
   "id": "d889f827",
   "metadata": {},
   "outputs": [],
   "source": [
    "class Stack:\n",
    "    def __init__(self):\n",
    "        self.items = []\n",
    "        \n",
    "    def is_empty(self):\n",
    "        return self.items == []\n",
    "    \n",
    "    def push(self, item):\n",
    "        self.items.append(item)\n",
    "        \n",
    "    def pop(self):\n",
    "        return self.items.pop()\n",
    "    \n",
    "    def peek(self):\n",
    "        return self.items[len(self.items)-1]\n",
    "    \n",
    "    def size(self):\n",
    "        return len(self.items)"
   ]
  },
  {
   "cell_type": "code",
   "execution_count": 2,
   "id": "0d5c428c",
   "metadata": {},
   "outputs": [],
   "source": [
    "def is_balanced(s):\n",
    "    if len(s)%2 != 0:\n",
    "        return False\n",
    "    opening = set(\"{[(\")\n",
    "    matches = set([(\"(\", \")\"), (\"[\", \"]\"), (\"{\", \"}\")])\n",
    "    stack = Stack()\n",
    "    for paren in s:\n",
    "        if paren in opening:\n",
    "            stack.push(paren)\n",
    "        else:\n",
    "            if stack.is_empty():\n",
    "                return False\n",
    "            last_open = stack.pop()\n",
    "            if (last_open, paren) not in matches:\n",
    "                return False\n",
    "    return stack.is_empty()"
   ]
  },
  {
   "cell_type": "code",
   "execution_count": 7,
   "id": "4d5c7e8c",
   "metadata": {},
   "outputs": [],
   "source": [
    "mystring = \"(((([[[{{{}}}]]]))))\"\n",
    "mystring2 = \"([)]\"\n",
    "not_balanced = \"()[}()()[[[[]]]]\"    \n",
    "\n",
    "opening = set(\"{[(\")\n",
    "matches = set([(\"(\", \")\"), (\"[\", \"]\"), (\"{\", \"}\")])\n",
    "\n",
    "assert is_balanced(mystring2) == False\n",
    "assert is_balanced(not_balanced) == False"
   ]
  },
  {
   "cell_type": "code",
   "execution_count": null,
   "id": "2491e7f8",
   "metadata": {},
   "outputs": [],
   "source": []
  }
 ],
 "metadata": {
  "kernelspec": {
   "display_name": "Python 3 (ipykernel)",
   "language": "python",
   "name": "python3"
  },
  "language_info": {
   "codemirror_mode": {
    "name": "ipython",
    "version": 3
   },
   "file_extension": ".py",
   "mimetype": "text/x-python",
   "name": "python",
   "nbconvert_exporter": "python",
   "pygments_lexer": "ipython3",
   "version": "3.10.0"
  }
 },
 "nbformat": 4,
 "nbformat_minor": 5
}
