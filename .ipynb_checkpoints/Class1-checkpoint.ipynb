{
 "cells": [
  {
   "cell_type": "code",
   "execution_count": null,
   "id": "0ec3c7ff",
   "metadata": {},
   "outputs": [],
   "source": [
    "for letter in \"hello, world!\":\n",
    "    print(letter)"
   ]
  },
  {
   "cell_type": "markdown",
   "id": "8cfac28b",
   "metadata": {},
   "source": [
    "# Hey\n",
    "> How are you?\n",
    "* Option 1\n",
    "* Option 2\n",
    "* ...\n",
    "* Option n"
   ]
  },
  {
   "cell_type": "markdown",
   "id": "f1d9bacf",
   "metadata": {},
   "source": [
    "# Problem 1\n",
    "### Given two strings (string_a and string_b) let's check whether or not they are anagrams of each other given the following criteria:\n",
    "> Two strings are only anagrams of each other if all the conditions bleow are met:\n",
    "> * They must be exactlyt the same length.\n",
    "> * They must use the same characters (no more, no less).\n",
    "\n",
    "Example: Cars and scar, heart and earth, etc."
   ]
  },
  {
   "cell_type": "code",
   "execution_count": 12,
   "id": "08b758cd",
   "metadata": {},
   "outputs": [],
   "source": [
    "def is_anagram(string_a, string_b):\n",
    "    a = string_a.replace(\" \", \"\")\n",
    "    b = string_b.replace(\" \", \"\")\n",
    "    if len(a) != len(b):                  # Checking if length of string a is equal to length of string b.\n",
    "        return False\n",
    "    char_times_a = dict()                               # Create 2 empty dictionaries.\n",
    "    char_times_b = dict()\n",
    "    for i in range(len(a)):                      # We iterate over all the values from 0 to the length of string a.\n",
    "        if a[i].casefold() not in char_times_a.keys():      # Check if we've seen the character at index \"i\" in string_a.\n",
    "            char_times_a[a[i].casefold()] = 1               # Adding a 1 because we've seen it once.\n",
    "        else:\n",
    "            char_times_a[a[i].casefold()] += 1              # If we've seen it once, add 1 for every time we see it again.\n",
    "        if b[i].casefold() not in char_times_b.keys():\n",
    "            char_times_b[b[i].casefold()] = 1               # Do the same for string b.\n",
    "        else:\n",
    "            char_times_b[b[i].casefold()] += 1\n",
    "    return char_times_a == char_times_b                 # Check if char_times_a is exactly the same as char_times_b."
   ]
  },
  {
   "cell_type": "code",
   "execution_count": 3,
   "id": "0d80ba0e",
   "metadata": {},
   "outputs": [
    {
     "data": {
      "text/plain": [
       "True"
      ]
     },
     "execution_count": 3,
     "metadata": {},
     "output_type": "execute_result"
    }
   ],
   "source": [
    "is_anagram(\"Cars\", \"scar\")"
   ]
  },
  {
   "cell_type": "code",
   "execution_count": 4,
   "id": "02833b3e",
   "metadata": {},
   "outputs": [
    {
     "data": {
      "text/plain": [
       "False"
      ]
     },
     "execution_count": 4,
     "metadata": {},
     "output_type": "execute_result"
    }
   ],
   "source": [
    "is_anagram(\"cars\", \"sccr\")"
   ]
  },
  {
   "cell_type": "code",
   "execution_count": 14,
   "id": "c1bf6746",
   "metadata": {},
   "outputs": [
    {
     "data": {
      "text/plain": [
       "True"
      ]
     },
     "execution_count": 14,
     "metadata": {},
     "output_type": "execute_result"
    }
   ],
   "source": [
    "is_anagram(\"I am lord Voldemort\", \"Tom Marvolo Riddle\")"
   ]
  },
  {
   "cell_type": "code",
   "execution_count": 1,
   "id": "ffc846ed",
   "metadata": {},
   "outputs": [],
   "source": [
    "class Stack:\n",
    "    def __init__(self):\n",
    "        self.items = []\n",
    "        \n",
    "    def is_empty(self):\n",
    "        return self.items == []\n",
    "    \n",
    "    def push(self, item):\n",
    "        self.items.append(item)\n",
    "        \n",
    "    def pop(self):\n",
    "        return self.items.pop()\n",
    "    \n",
    "    def peek(self):\n",
    "        return self.items[len(self.items)-1]\n",
    "    \n",
    "    def size(self):\n",
    "        return len(self.items)"
   ]
  },
  {
   "cell_type": "code",
   "execution_count": 2,
   "id": "9fb624c1",
   "metadata": {},
   "outputs": [
    {
     "data": {
      "text/plain": [
       "False"
      ]
     },
     "execution_count": 2,
     "metadata": {},
     "output_type": "execute_result"
    }
   ],
   "source": [
    "mystring = \"Guillermo\"\n",
    "mystring ==  \"omrelliuG\""
   ]
  },
  {
   "cell_type": "code",
   "execution_count": 3,
   "id": "83c8e9bb",
   "metadata": {},
   "outputs": [],
   "source": [
    "def reverse_str(mystring):\n",
    "    stack = Stack()\n",
    "    output = \"\"\n",
    "    for letter in mystring:\n",
    "        stack.push(letter)\n",
    "    while not stack.is_empty():\n",
    "        output += stack.pop()\n",
    "    return output"
   ]
  },
  {
   "cell_type": "code",
   "execution_count": 4,
   "id": "205b64b9",
   "metadata": {},
   "outputs": [
    {
     "data": {
      "text/plain": [
       "'omrelliuG'"
      ]
     },
     "execution_count": 4,
     "metadata": {},
     "output_type": "execute_result"
    }
   ],
   "source": [
    "reverse_str(\"Guillermo\")"
   ]
  },
  {
   "cell_type": "code",
   "execution_count": null,
   "id": "244871fc",
   "metadata": {},
   "outputs": [],
   "source": []
  }
 ],
 "metadata": {
  "kernelspec": {
   "display_name": "Python 3 (ipykernel)",
   "language": "python",
   "name": "python3"
  },
  "language_info": {
   "codemirror_mode": {
    "name": "ipython",
    "version": 3
   },
   "file_extension": ".py",
   "mimetype": "text/x-python",
   "name": "python",
   "nbconvert_exporter": "python",
   "pygments_lexer": "ipython3",
   "version": "3.10.0"
  }
 },
 "nbformat": 4,
 "nbformat_minor": 5
}
