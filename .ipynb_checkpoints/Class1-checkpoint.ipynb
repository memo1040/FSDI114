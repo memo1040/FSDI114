{
 "cells": [
  {
   "cell_type": "code",
   "execution_count": null,
   "id": "0ec3c7ff",
   "metadata": {},
   "outputs": [],
   "source": [
    "for letter in \"hello, world!\":\n",
    "    print(letter)"
   ]
  },
  {
   "cell_type": "markdown",
   "id": "8cfac28b",
   "metadata": {},
   "source": [
    "# Hey\n",
    "> How are you?\n",
    "* Option 1\n",
    "* Option 2\n",
    "* ...\n",
    "* Option n"
   ]
  },
  {
   "cell_type": "markdown",
   "id": "f1d9bacf",
   "metadata": {},
   "source": [
    "# Problem 1\n",
    "### Given two strings (string_a and string_b) let's check whether or not they are anagrams of each other given the following criteria:\n",
    "> Two strings are only anagrams of each other if all the conditions bleow are met:\n",
    "> * They must be exactlyt the same length.\n",
    "> * They must use the same characters (no more, no less).\n",
    "\n",
    "Example: Cars and scar, heart and earth, etc."
   ]
  },
  {
   "cell_type": "code",
   "execution_count": 3,
   "id": "08b758cd",
   "metadata": {},
   "outputs": [],
   "source": [
    "def is_anagram(string_a, string_b):\n",
    "    if len(string_a) != len(string_b):                  # Checking if length of string a is equal to length of string b.\n",
    "        return False\n",
    "    char_times_a = dict()                               # Create 2 empty dictionaries.\n",
    "    char_times_b = dict()\n",
    "    for i in range(len(string_a)):                      # We iterate over all the values from 0 to the length of string a.\n",
    "        if string_a[i] not in char_times_a.keys():      # Check if we've seen the character at index \"i\" in string_a.\n",
    "            char_times_a[string_a[i]] = 1               # Adding a 1 because we've seen it once.\n",
    "        else:\n",
    "            char_times_a[string_a[i]] += 1              # If we've seen it once, add 1 for every time we see it again.\n",
    "        if string_b[i] not in char_times_b.keys():\n",
    "            char_times_b[string_b[i]] = 1               # Do the same for string b.\n",
    "        else:\n",
    "            char_times_b[string_b[i]] += 1\n",
    "    return char_times_a == char_times_b                 # Check if char_times_a is exactly the same as char_times_b."
   ]
  },
  {
   "cell_type": "code",
   "execution_count": 5,
   "id": "0d80ba0e",
   "metadata": {},
   "outputs": [
    {
     "data": {
      "text/plain": [
       "True"
      ]
     },
     "execution_count": 5,
     "metadata": {},
     "output_type": "execute_result"
    }
   ],
   "source": [
    "is_anagram(\"cars\", \"scar\")"
   ]
  },
  {
   "cell_type": "code",
   "execution_count": 6,
   "id": "02833b3e",
   "metadata": {},
   "outputs": [
    {
     "data": {
      "text/plain": [
       "False"
      ]
     },
     "execution_count": 6,
     "metadata": {},
     "output_type": "execute_result"
    }
   ],
   "source": [
    "is_anagram(\"cars\", \"sccr\")"
   ]
  },
  {
   "cell_type": "code",
   "execution_count": null,
   "id": "ffc846ed",
   "metadata": {},
   "outputs": [],
   "source": []
  }
 ],
 "metadata": {
  "kernelspec": {
   "display_name": "Python 3 (ipykernel)",
   "language": "python",
   "name": "python3"
  },
  "language_info": {
   "codemirror_mode": {
    "name": "ipython",
    "version": 3
   },
   "file_extension": ".py",
   "mimetype": "text/x-python",
   "name": "python",
   "nbconvert_exporter": "python",
   "pygments_lexer": "ipython3",
   "version": "3.10.0"
  }
 },
 "nbformat": 4,
 "nbformat_minor": 5
}
