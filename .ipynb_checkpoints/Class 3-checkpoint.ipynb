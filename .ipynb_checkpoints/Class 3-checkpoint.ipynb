{
 "cells": [
  {
   "cell_type": "code",
   "execution_count": 1,
   "id": "3156ea60",
   "metadata": {},
   "outputs": [
    {
     "name": "stdout",
     "output_type": "stream",
     "text": [
      "1\n",
      "2\n",
      "--------------------------------------------------\n",
      "1\n",
      "2\n"
     ]
    }
   ],
   "source": [
    "stack = []\n",
    "stack2 = []\n",
    "\n",
    "print(1)\n",
    "print(2)\n",
    "\n",
    "stack.append(1)\n",
    "stack.append(2)\n",
    "\n",
    "print(\"-\"*50)\n",
    "stack2.append(stack.pop())\n",
    "stack2.append(stack.pop())\n",
    "\n",
    "print(stack2.pop())\n",
    "print(stack2.pop())"
   ]
  },
  {
   "cell_type": "code",
   "execution_count": 2,
   "id": "945bd814",
   "metadata": {},
   "outputs": [
    {
     "name": "stdout",
     "output_type": "stream",
     "text": [
      "1\n",
      "2\n"
     ]
    }
   ],
   "source": [
    "queue = []\n",
    "\n",
    "queue.insert(0,1)\n",
    "queue.insert(0,2)\n",
    "\n",
    "print(queue.pop())\n",
    "print(queue.pop())"
   ]
  },
  {
   "cell_type": "code",
   "execution_count": 3,
   "id": "69260d09",
   "metadata": {},
   "outputs": [],
   "source": [
    "class Queue2Stacks:\n",
    "    def __init__(self):\n",
    "        # Two stacks\n",
    "        self.stack1 = []\n",
    "        self.stack2 = []\n",
    "    \n",
    "    def enqueue(self, element):\n",
    "        self.stack1.append(element)\n",
    "        pass\n",
    "    \n",
    "    def dequeue(self):\n",
    "        if not self.stack2:\n",
    "            while self.stack1 != []:\n",
    "                self.stack2.append(self.stack1.pop())\n",
    "        return self.stack2.pop()"
   ]
  },
  {
   "cell_type": "code",
   "execution_count": 4,
   "id": "9929538d",
   "metadata": {},
   "outputs": [],
   "source": [
    "def test():\n",
    "    q = Queue2Stacks()\n",
    "    for i in range(5):\n",
    "        q.enqueue(i)\n",
    "    for i in range(5):\n",
    "        print(q.dequeue())"
   ]
  },
  {
   "cell_type": "code",
   "execution_count": 5,
   "id": "29e04742",
   "metadata": {},
   "outputs": [
    {
     "name": "stdout",
     "output_type": "stream",
     "text": [
      "0\n",
      "1\n",
      "2\n",
      "3\n",
      "4\n"
     ]
    }
   ],
   "source": [
    "test()"
   ]
  },
  {
   "cell_type": "code",
   "execution_count": 6,
   "id": "b79d04fe",
   "metadata": {},
   "outputs": [],
   "source": [
    "def factorial(n):\n",
    "    if n == 0:\n",
    "        return 1\n",
    "    return n*factorial(n-1)"
   ]
  },
  {
   "cell_type": "code",
   "execution_count": 7,
   "id": "0dbe7c0b",
   "metadata": {},
   "outputs": [
    {
     "data": {
      "text/plain": [
       "3628800"
      ]
     },
     "execution_count": 7,
     "metadata": {},
     "output_type": "execute_result"
    }
   ],
   "source": [
    "factorial(10)"
   ]
  },
  {
   "cell_type": "code",
   "execution_count": 8,
   "id": "1e511ffe",
   "metadata": {},
   "outputs": [],
   "source": [
    "from functools import lru_cache\n",
    "\n",
    "@lru_cache\n",
    "def fib(n):\n",
    "    if n < 2:\n",
    "        return n\n",
    "    return fib(n-1) + fib(n-2)"
   ]
  },
  {
   "cell_type": "code",
   "execution_count": 9,
   "id": "a6a2840e",
   "metadata": {},
   "outputs": [
    {
     "data": {
      "text/plain": [
       "21"
      ]
     },
     "execution_count": 9,
     "metadata": {},
     "output_type": "execute_result"
    }
   ],
   "source": [
    "fib(8)"
   ]
  },
  {
   "cell_type": "code",
   "execution_count": 39,
   "id": "0514f668",
   "metadata": {},
   "outputs": [
    {
     "data": {
      "text/plain": [
       "30891446701021944140869676975393946177747935397213034076864737397457418174176420814102482907879212571715297292654361888559164155585161248102007989320409132864649223351020043105407979897812202240599466190077056786328966681508267873894050300636513288988775328596342560667443542172461623764953398327467858599579736021278670539675622278024874771452254646096582901897439276206273536722554711655169104841484651994389609875030029357913841984636550916328213256184920664168579393376139770948866808579053632968751917594281711649440345459677186324677649518204199247491371358335601809274637968702475871002043136634088726423978718996681452886388959430533655871169610213931184402770440119041278612210213455617474442796989998768435074192645944464327307329126545121136385736173720205684106030893152851619097910432821638675201757419232385586655439156013698415356345863862570462775737073846937596329612412291501480223167551665600052033579232251758177732715512729892728174272817580605084115283011300764524398701076842660378234345388402392931056994551864239530964171469423058704232548463680411136374465142742968335704176950004321635923759273020578250973216331782332241929738907144537115327033585119707289238896055730591993488829673428383040694459174830197393863705082543797785414491144324767911136413048356939187421350265106705276841150366071092955774813915266392790383462516392415595723716730156617535957895918948254660458324087461760870199792996152080774333983373864536053545184652931254695346587244057835538308609171242738522432641053364574993048784025720485645155435210300809697216341976740126965628381587153293979888681948159654334346268600582958153522466616435467221054701283200392537840174499898751378009334489537487673634089371313960630045675710160483397420919987501149624309225212650326823816389763057633590054752966091408735947170248538950707415984045204164465651051483483923842832148597914480426047609704371187789055694430722868393894066218681322502370475813751291350684814227488466113376050387244729889432312355659975768087278512316006679378678305099154053499880529484888145559783486303529398498926855445986464826912408192420233770133196618786258087399202885268663803304485203995736388617998504804333973325274219211716866629514775736189748370572673777351329164336071512716972677690301960894132332048532435161515245811989110786110810320239117975880193423433287130490428995056046838807318538634185875312307104588852848267872589439076799398911538296351291344874146629156972068238826727270939429628471255203128433711385977589315459439217774003345529207259357307369238266708329207444859969165570166496344053588265420180985216049461705540978469713615940371858874570604913673716166117603485251512965926901417428221938589139313412875"
      ]
     },
     "execution_count": 39,
     "metadata": {},
     "output_type": "execute_result"
    }
   ],
   "source": [
    "fib(13000)"
   ]
  },
  {
   "cell_type": "code",
   "execution_count": 10,
   "id": "91120898",
   "metadata": {},
   "outputs": [],
   "source": [
    "class Node:\n",
    "    def __init__(self, data):\n",
    "        self.data = data\n",
    "        self.next = None"
   ]
  },
  {
   "cell_type": "code",
   "execution_count": 11,
   "id": "9d559d0e",
   "metadata": {},
   "outputs": [
    {
     "name": "stdout",
     "output_type": "stream",
     "text": [
      "A\n",
      "B\n",
      "C\n",
      "D\n",
      "E\n",
      "F\n",
      "G\n",
      "H\n",
      "I\n",
      "J\n",
      "K\n",
      "L\n",
      "M\n",
      "N\n",
      "O\n",
      "P\n",
      "Q\n",
      "R\n",
      "S\n",
      "T\n",
      "U\n",
      "V\n",
      "W\n",
      "X\n",
      "Y\n",
      "Z\n"
     ]
    }
   ],
   "source": [
    "head = None\n",
    "alphabet = \"ABCDEFGHIJKLMNOPQRSTUVWXYZ\"\n",
    "for letter in alphabet:\n",
    "    if not head:\n",
    "        head = Node(letter)\n",
    "    else:\n",
    "        current = head\n",
    "        while current.next:\n",
    "            current = current.next\n",
    "            \n",
    "        current.next = Node(letter)\n",
    "        \n",
    "current = head\n",
    "while current:\n",
    "    print(current.data)\n",
    "    current = current.next"
   ]
  },
  {
   "cell_type": "code",
   "execution_count": 12,
   "id": "eb84c40c",
   "metadata": {},
   "outputs": [
    {
     "name": "stdout",
     "output_type": "stream",
     "text": [
      "[4, 4.5, 5]\n"
     ]
    }
   ],
   "source": [
    "mylist = []\n",
    "\n",
    "mylist.append(5)\n",
    "\n",
    "mylist.insert(0, 4)\n",
    "\n",
    "mylist.insert(1, 4.5)\n",
    "\n",
    "print(mylist)"
   ]
  },
  {
   "cell_type": "code",
   "execution_count": null,
   "id": "0968e7d3",
   "metadata": {},
   "outputs": [],
   "source": [
    "class SinglyLinkedList:\n",
    "    def __init__(self):\n",
    "        self.head = None\n",
    "        \n",
    "    def insert(self, index, data):\n",
    "        # the first thing we need to do\n",
    "        # is not make any assumptions that the\n",
    "        # append operation has been called prior to this.\n",
    "        if not self.head:\n",
    "            self.head = Node(data)\n",
    "        elif index == 0:\n",
    "            new_node = Node(data)\n",
    "            temp = self.head\n",
    "            new_node.next = temp\n",
    "            self.head = new_node\n",
    "        else:\n",
    "            current = self.head\n",
    "            counter = 0\n",
    "            while current.next and counter != index:\n",
    "                current = current.next\n",
    "                counter += 1\n",
    "            if not current.next:\n",
    "                current.next = Node(data)\n",
    "            else:\n",
    "                new_node = Node(data)\n",
    "                temp = current.next\n",
    "                current.next = new_node\n",
    "                new_node.next = temp\n",
    "    \n",
    "    def append(self, data):\n",
    "        if not self.head:\n",
    "            self.head = Node(data)\n",
    "        else:\n",
    "            current = self.head\n",
    "            while current.next:\n",
    "                current = current.next\n",
    "            current.next = Node(data)\n",
    "    \n",
    "    def __repr__(self):\n",
    "        out_str = \"\"\n",
    "        current = self.head\n",
    "        while current:\n",
    "            out_str += \"%s, \" % current.data\n",
    "            current = current.next\n",
    "        return \"[%s]\" % out_str\n",
    "    \n",
    "    def get_index(self, index):\n",
    "        counter = 0\n",
    "        current = self.head\n",
    "        while current and counter != index:\n",
    "            current = current.next\n",
    "            counter += 1\n",
    "        if counter != index:\n",
    "            raise IndexError(\"list index out of range\")\n",
    "        return current.data\n",
    "    \n",
    "    def remove(self, value):\n",
    "        found = False\n",
    "        if not self.head:\n",
    "            raise ValueError(\n",
    "                \"list.remove(%s): %s is not in the list\"\n",
    "                % (value, value))\n",
    "        else:\n",
    "            if self.head.data == value:\n",
    "                self.head = self.head.next\n",
    "                found = True\n",
    "            else:\n",
    "                current = self.head.next\n",
    "                prev = self.head\n",
    "                while current and not found: \n",
    "                    if current.data == value:\n",
    "                        prev.next = current.next\n",
    "                        found = True\n",
    "                    prev = current\n",
    "                    current = current.next\n",
    "            if not found:\n",
    "                raise ValueError(\n",
    "                    \"list.remove(%s): %s is not in the list\"\n",
    "                    % (value, value))\n",
    "                \n",
    "    def count(self, value):\n",
    "        current = self.head\n",
    "        counter = 0\n",
    "        while current:\n",
    "            if current.data == value:\n",
    "                counter += 1\n",
    "            current = current.next\n",
    "        return counter"
   ]
  },
  {
   "cell_type": "code",
   "execution_count": 32,
   "id": "3a6c87e2",
   "metadata": {},
   "outputs": [
    {
     "name": "stdout",
     "output_type": "stream",
     "text": [
      "13\n"
     ]
    }
   ],
   "source": [
    "sll = SinglyLinkedList()\n",
    "\n",
    "for number in range(1, 101):\n",
    "    sll.append(number)\n",
    "\n",
    "print(sll.get_index(12))"
   ]
  },
  {
   "cell_type": "code",
   "execution_count": null,
   "id": "3dd2d17e",
   "metadata": {},
   "outputs": [],
   "source": [
    "sll = SinglyLinkedList()\n",
    "\n",
    "for number in range(2, 20, 2):\n",
    "    sll.insert(0, number)\n",
    "\n",
    "print(\"Insert values from 2 to 18 at index 0:\")\n",
    "print(sll)\n",
    "    \n",
    "for letter in \"ABCDE\":\n",
    "    sll.insert(4, letter)\n",
    "\n",
    "print(\"\\nInsert letters from A to E at index 4:\")\n",
    "print(sll)\n",
    "\n",
    "for letter in \"ABCDE\":\n",
    "    sll.remove(letter)\n",
    "    \n",
    "print(\"\\nRemove letters from A to E (values):\")\n",
    "print(sll)\n",
    "\n",
    "print(sll.count(14))"
   ]
  },
  {
   "cell_type": "code",
   "execution_count": null,
   "id": "8d44cf1a",
   "metadata": {},
   "outputs": [],
   "source": []
  }
 ],
 "metadata": {
  "kernelspec": {
   "display_name": "Python 3 (ipykernel)",
   "language": "python",
   "name": "python3"
  },
  "language_info": {
   "codemirror_mode": {
    "name": "ipython",
    "version": 3
   },
   "file_extension": ".py",
   "mimetype": "text/x-python",
   "name": "python",
   "nbconvert_exporter": "python",
   "pygments_lexer": "ipython3",
   "version": "3.10.0"
  }
 },
 "nbformat": 4,
 "nbformat_minor": 5
}
